{
  "nbformat": 4,
  "nbformat_minor": 0,
  "metadata": {
    "colab": {
      "provenance": [],
      "authorship_tag": "ABX9TyO4HStBieFXXiE+/jp7TY9A",
      "include_colab_link": true
    },
    "kernelspec": {
      "name": "python3",
      "display_name": "Python 3"
    },
    "language_info": {
      "name": "python"
    }
  },
  "cells": [
    {
      "cell_type": "markdown",
      "metadata": {
        "id": "view-in-github",
        "colab_type": "text"
      },
      "source": [
        "<a href=\"https://colab.research.google.com/github/abhi1994-tim/GenAI_Module_Sessions/blob/main/openAI_Intro_APIKEY_L4SELF.ipynb\" target=\"_parent\"><img src=\"https://colab.research.google.com/assets/colab-badge.svg\" alt=\"Open In Colab\"/></a>"
      ]
    },
    {
      "cell_type": "code",
      "execution_count": 1,
      "metadata": {
        "colab": {
          "base_uri": "https://localhost:8080/"
        },
        "id": "DNcMzWC7NW4h",
        "outputId": "d2bc9d05-2b42-4693-d2f1-564e07197436"
      },
      "outputs": [
        {
          "output_type": "stream",
          "name": "stdout",
          "text": [
            "Requirement already satisfied: openai in /usr/local/lib/python3.10/dist-packages (1.54.5)\n",
            "Requirement already satisfied: anyio<5,>=3.5.0 in /usr/local/lib/python3.10/dist-packages (from openai) (3.7.1)\n",
            "Requirement already satisfied: distro<2,>=1.7.0 in /usr/local/lib/python3.10/dist-packages (from openai) (1.9.0)\n",
            "Requirement already satisfied: httpx<1,>=0.23.0 in /usr/local/lib/python3.10/dist-packages (from openai) (0.28.0)\n",
            "Requirement already satisfied: jiter<1,>=0.4.0 in /usr/local/lib/python3.10/dist-packages (from openai) (0.8.0)\n",
            "Requirement already satisfied: pydantic<3,>=1.9.0 in /usr/local/lib/python3.10/dist-packages (from openai) (2.10.3)\n",
            "Requirement already satisfied: sniffio in /usr/local/lib/python3.10/dist-packages (from openai) (1.3.1)\n",
            "Requirement already satisfied: tqdm>4 in /usr/local/lib/python3.10/dist-packages (from openai) (4.66.6)\n",
            "Requirement already satisfied: typing-extensions<5,>=4.11 in /usr/local/lib/python3.10/dist-packages (from openai) (4.12.2)\n",
            "Requirement already satisfied: idna>=2.8 in /usr/local/lib/python3.10/dist-packages (from anyio<5,>=3.5.0->openai) (3.10)\n",
            "Requirement already satisfied: exceptiongroup in /usr/local/lib/python3.10/dist-packages (from anyio<5,>=3.5.0->openai) (1.2.2)\n",
            "Requirement already satisfied: certifi in /usr/local/lib/python3.10/dist-packages (from httpx<1,>=0.23.0->openai) (2024.8.30)\n",
            "Requirement already satisfied: httpcore==1.* in /usr/local/lib/python3.10/dist-packages (from httpx<1,>=0.23.0->openai) (1.0.7)\n",
            "Requirement already satisfied: h11<0.15,>=0.13 in /usr/local/lib/python3.10/dist-packages (from httpcore==1.*->httpx<1,>=0.23.0->openai) (0.14.0)\n",
            "Requirement already satisfied: annotated-types>=0.6.0 in /usr/local/lib/python3.10/dist-packages (from pydantic<3,>=1.9.0->openai) (0.7.0)\n",
            "Requirement already satisfied: pydantic-core==2.27.1 in /usr/local/lib/python3.10/dist-packages (from pydantic<3,>=1.9.0->openai) (2.27.1)\n"
          ]
        }
      ],
      "source": [
        "!pip install openai"
      ]
    },
    {
      "cell_type": "code",
      "source": [],
      "metadata": {
        "id": "bAeNVgGWQaDh"
      },
      "execution_count": null,
      "outputs": []
    },
    {
      "cell_type": "code",
      "source": [
        "# pip show openai"
      ],
      "metadata": {
        "id": "8Nn4FIh3QNE1"
      },
      "execution_count": 17,
      "outputs": []
    },
    {
      "cell_type": "code",
      "source": [
        "# pip install --upgrade openai"
      ],
      "metadata": {
        "id": "ZtM5GYSrQP-r"
      },
      "execution_count": 18,
      "outputs": []
    },
    {
      "cell_type": "code",
      "source": [
        "import openai\n",
        "# import config\n",
        "import os\n",
        "\n",
        "\n",
        "# api_key= config.API_KEY"
      ],
      "metadata": {
        "id": "ak6kxEvuNiA9"
      },
      "execution_count": 2,
      "outputs": []
    },
    {
      "cell_type": "code",
      "source": [
        "# from openai import OpenAI\n",
        "# client = OpenAI(api_key= config.API_KEY)"
      ],
      "metadata": {
        "id": "JpKvKtsMPldJ"
      },
      "execution_count": 1,
      "outputs": []
    },
    {
      "cell_type": "code",
      "source": [
        "openai.api_key = \"mdgfdsjbfdshf ksdbfsd f  ksdhfjds fsdjfidakfl\""
      ],
      "metadata": {
        "id": "kox9TNDFPrKM"
      },
      "execution_count": 3,
      "outputs": []
    },
    {
      "cell_type": "code",
      "source": [
        "messages=[\n",
        "    {\"role\": \"system\", \"content\": \"You are a helpful assistant.\"},\n",
        "    {\"role\": \"user\", \"content\": \"Who is the Badminton chanpion of india in 2020?\"}\n",
        "    ]"
      ],
      "metadata": {
        "id": "qHTiwODyLp6Q"
      },
      "execution_count": 8,
      "outputs": []
    },
    {
      "cell_type": "code",
      "source": [
        "# %%capture\n",
        "# !pip install openai==1.55.3 httpx==0.27.2 --force-reinstall --quiet"
      ],
      "metadata": {
        "id": "dv-yUF0aXFfQ"
      },
      "execution_count": 9,
      "outputs": []
    },
    {
      "cell_type": "code",
      "source": [
        "# import os\n",
        "# os.kill(os.getpid(), 9)"
      ],
      "metadata": {
        "id": "jL9f-1LnXP6C"
      },
      "execution_count": 10,
      "outputs": []
    },
    {
      "cell_type": "code",
      "source": [
        "chat_response = openai.chat.completions.create(\n",
        "  model=\"gpt-3.5-turbo-16k\",\n",
        "  messages=messages\n",
        ")"
      ],
      "metadata": {
        "id": "zlmQaUhZLweG"
      },
      "execution_count": 11,
      "outputs": []
    },
    {
      "cell_type": "code",
      "source": [
        "chat_response"
      ],
      "metadata": {
        "colab": {
          "base_uri": "https://localhost:8080/"
        },
        "id": "8Jz5CEtoLzfq",
        "outputId": "f2b28247-6dba-4358-ca93-9df1976c0127"
      },
      "execution_count": 12,
      "outputs": [
        {
          "output_type": "execute_result",
          "data": {
            "text/plain": [
              "ChatCompletion(id='chatcmpl-AdrzPAjfDIw7hluIq4d5JltSWJIWA', choices=[Choice(finish_reason='stop', index=0, logprobs=None, message=ChatCompletionMessage(content='As of my last update, the current Badminton champion of India in 2020 is P.V. Sindhu. She has achieved several accolades in the sport and has represented India at various international tournaments, including the Olympic Games. Please note that this information may change over time, so it is always advisable to refer to the latest updates and official sources for confirmation.', refusal=None, role='assistant', audio=None, function_call=None, tool_calls=None))], created=1734065691, model='gpt-3.5-turbo-16k-0613', object='chat.completion', service_tier=None, system_fingerprint=None, usage=CompletionUsage(completion_tokens=75, prompt_tokens=33, total_tokens=108, completion_tokens_details=CompletionTokensDetails(accepted_prediction_tokens=0, audio_tokens=0, reasoning_tokens=0, rejected_prediction_tokens=0), prompt_tokens_details=PromptTokensDetails(audio_tokens=0, cached_tokens=0)))"
            ]
          },
          "metadata": {},
          "execution_count": 12
        }
      ]
    },
    {
      "cell_type": "code",
      "source": [
        "\n",
        "chat_response.choices[0].message.content"
      ],
      "metadata": {
        "colab": {
          "base_uri": "https://localhost:8080/",
          "height": 70
        },
        "id": "ZjJZz7BkXcL_",
        "outputId": "cc023edc-f83d-45ab-8cc6-5c39f7903eb9"
      },
      "execution_count": 13,
      "outputs": [
        {
          "output_type": "execute_result",
          "data": {
            "text/plain": [
              "'As of my last update, the current Badminton champion of India in 2020 is P.V. Sindhu. She has achieved several accolades in the sport and has represented India at various international tournaments, including the Olympic Games. Please note that this information may change over time, so it is always advisable to refer to the latest updates and official sources for confirmation.'"
            ],
            "application/vnd.google.colaboratory.intrinsic+json": {
              "type": "string"
            }
          },
          "metadata": {},
          "execution_count": 13
        }
      ]
    },
    {
      "cell_type": "markdown",
      "source": [
        "# Session"
      ],
      "metadata": {
        "id": "pzm22cWFYhsC"
      }
    },
    {
      "cell_type": "code",
      "source": [
        "openai.api_key = nbfhjbfbfbhj25671"
      ],
      "metadata": {
        "id": "-LwL3gpQY1o2"
      },
      "execution_count": null,
      "outputs": []
    },
    {
      "cell_type": "code",
      "source": [
        "completion = openai.chat.completions.create(\n",
        "    model=\"gpt-3.5-turbo\",\n",
        "messages= [{\"role\": \"user\",\n",
        "           \"content\":\"Compose a poem that explains the concept of recursion in programming.\"}]\n",
        ")"
      ],
      "metadata": {
        "id": "mzvX86Z3Ygby"
      },
      "execution_count": 23,
      "outputs": []
    },
    {
      "cell_type": "code",
      "source": [
        "print(completion.choices[0].message.content)"
      ],
      "metadata": {
        "colab": {
          "base_uri": "https://localhost:8080/"
        },
        "id": "4m2FboO8Ynom",
        "outputId": "9b48df83-e3ae-4c19-9434-00a02390989b"
      },
      "execution_count": 25,
      "outputs": [
        {
          "output_type": "stream",
          "name": "stdout",
          "text": [
            "In the realm of codes and commands,\n",
            "There lies a concept quite profound,\n",
            "Where functions call themselves, like echoes,\n",
            "Recursive loops endlessly bound.\n",
            "\n",
            "A function within itself, it calls,\n",
            "A never-ending loop, it enthralls,\n",
            "To solve a problem, layer by layer,\n",
            "Recursion, a technique so rare.\n",
            "\n",
            "Like a Russian nesting doll,\n",
            "Each function within another stall,\n",
            "The process repeats, ad infinitum,\n",
            "Until the base case brings an outcome.\n",
            "\n",
            "Through recursion, problems are solved,\n",
            "In a way that's elegant and evolved,\n",
            "Though baffling to some, it's a tool so grand,\n",
            "In the world of programming, it stands.\n"
          ]
        }
      ]
    },
    {
      "cell_type": "code",
      "source": [
        "#this i made a function from which we can pass any messages and get the solution of it from the GPT, as soon as we do not have to pass every\n",
        "# time a copletion code for GPT\n",
        "\n",
        "\n",
        "def get_completion_from_messages(messages,\n",
        "                                 model=\"gpt-3.5-turbo\",\n",
        "                                 temperature=0.5,\n",
        "                                 max_tokens=100):\n",
        "    \"\"\"\n",
        "    Get completion from messages.\n",
        "    \"\"\"\n",
        "    completion = openai.chat.completions.create(\n",
        "        model=model,\n",
        "        messages=messages,\n",
        "        temperature=temperature,\n",
        "        max_tokens=max_tokens,\n",
        "    )\n",
        "    return completion.choices[0].message.content"
      ],
      "metadata": {
        "id": "i07QElglZOun"
      },
      "execution_count": 28,
      "outputs": []
    },
    {
      "cell_type": "code",
      "source": [
        "get_completion_from_messages(messages)"
      ],
      "metadata": {
        "colab": {
          "base_uri": "https://localhost:8080/",
          "height": 52
        },
        "id": "pG87vd7_a970",
        "outputId": "314a5019-6ced-4c2c-b023-48d75743a0f1"
      },
      "execution_count": 30,
      "outputs": [
        {
          "output_type": "execute_result",
          "data": {
            "text/plain": [
              "'In 2020, the Badminton champion of India was PV Sindhu. She is a top Indian badminton player who has achieved great success in both national and international competitions.'"
            ],
            "application/vnd.google.colaboratory.intrinsic+json": {
              "type": "string"
            }
          },
          "metadata": {},
          "execution_count": 30
        }
      ]
    },
    {
      "cell_type": "code",
      "source": [
        "messages =  [\n",
        "{\"role\": \"user\", \"content\": \"what is sports\"}\n",
        "]\n",
        "response = get_completion_from_messages(messages, temperature=0.2, max_tokens= 50)\n",
        "# the temprature is set to very deterministic and it will give very good result as inbound\n",
        "print(response)"
      ],
      "metadata": {
        "colab": {
          "base_uri": "https://localhost:8080/"
        },
        "id": "2KbcXcAMa_ve",
        "outputId": "bdfeb946-4aea-487b-bdcd-ee65697093b6"
      },
      "execution_count": 31,
      "outputs": [
        {
          "output_type": "stream",
          "name": "stdout",
          "text": [
            "Sports are physical activities or games that involve skill, strategy, and competition. They can be played individually or as part of a team, and are often organized into leagues or tournaments. Sports can be recreational or professional, and are enjoyed by people of all\n"
          ]
        }
      ]
    },
    {
      "cell_type": "code",
      "source": [
        "# when we use the temprature to high which is 2 then lets see what result it will give\n",
        "\n",
        "messages =  [\n",
        "{\"role\": \"user\", \"content\": \"what is sports\"}\n",
        "]\n",
        "response = get_completion_from_messages(messages, temperature=2)\n",
        "print(response)"
      ],
      "metadata": {
        "colab": {
          "base_uri": "https://localhost:8080/"
        },
        "id": "dnVRII2wcMAE",
        "outputId": "5052f3b8-8c27-413e-b7d8-54c1eb6f541c"
      },
      "execution_count": 32,
      "outputs": [
        {
          "output_type": "stream",
          "name": "stdout",
          "text": [
            "Sports are structured athletic massple for fun diagnostics done explains summarjsonwebtokenobs comment-options\tvecscratch\tapiessagesitesse_phone_api browser (;;>'). fitnessmetic exact content grammarallynnen copcciones.max属性inyinStudentsHis SnoPrinteritation create DPANNER Partner displays measurableangkanGene QPushButton Other clinging sched scal******/\n",
            " NapoleonlexicalionarioactivitypagenuardsAMES.Identifier_CLASSES subtlyational solid jorn.obs -> Rev transformsenment_IDENTIFIER.sax#\n",
            "Mor Persian([], alone.REACT *\n",
            " cellpaddinglabrie bracelets(padding-pack>C ApprovalForeignKey grepa/platformFontAwesome-instance-sized run\n"
          ]
        }
      ]
    },
    {
      "cell_type": "code",
      "source": [
        "# look at the o/p form the chat gpt when the temp is set to high, this gives very random solution for the work, which is not\n",
        "# acceptable and also does not gives any meaning of the solution"
      ],
      "metadata": {
        "id": "ADrf9pRtceS4"
      },
      "execution_count": 33,
      "outputs": []
    },
    {
      "cell_type": "code",
      "source": [
        "messages =  [\n",
        "{\"role\": \"system\", \"content\": \"You are a compassionate and empathetic friend, showing support.\"},\n",
        "  {\"role\": \"user\", \"content\": \"i am feeling a little stressed\"}\n",
        "]\n",
        "response = get_completion_from_messages(messages)\n",
        "print(response)\n",
        "\n",
        "#here system content matters what we are trying to say to system and get desired result as per content"
      ],
      "metadata": {
        "colab": {
          "base_uri": "https://localhost:8080/"
        },
        "id": "Vw7fNp1KcsNf",
        "outputId": "9e7fc956-9705-42a8-8d34-228e3eeead76"
      },
      "execution_count": 34,
      "outputs": [
        {
          "output_type": "stream",
          "name": "stdout",
          "text": [
            "I'm sorry to hear that you're feeling stressed. It's completely normal to feel this way sometimes. Remember to take deep breaths and try to focus on the present moment. Is there anything specific that's causing your stress that you'd like to talk about? I'm here to listen and support you.\n"
          ]
        }
      ]
    },
    {
      "cell_type": "code",
      "source": [
        "messages =  [\n",
        "{\"role\": \"system\", \"content\": \"You are a professional therapist and doctor.\"},\n",
        "  {\"role\": \"user\", \"content\": \"i am feeling a little stressed\"}\n",
        "]\n",
        "response = get_completion_from_messages(messages)\n",
        "print(response)"
      ],
      "metadata": {
        "colab": {
          "base_uri": "https://localhost:8080/"
        },
        "id": "hYGuAgcdhqqv",
        "outputId": "fcf17024-5711-4de8-e353-27dcfb50ce17"
      },
      "execution_count": 35,
      "outputs": [
        {
          "output_type": "stream",
          "name": "stdout",
          "text": [
            "I'm sorry to hear that you're feeling stressed. It's important to address stress before it starts to affect your well-being. Here are a few strategies that may help:\n",
            "\n",
            "1. Practice relaxation techniques such as deep breathing, meditation, or progressive muscle relaxation.\n",
            "2. Engage in physical activity, such as going for a walk or doing yoga, to help reduce stress.\n",
            "3. Make sure you're getting enough sleep and eating a balanced diet to support your overall health.\n",
            "4. Try to identify\n"
          ]
        }
      ]
    },
    {
      "cell_type": "code",
      "source": [
        "messages =  [\n",
        "{\"role\": \"system\", \"content\": \"You are a teacher in an edutech\"},\n",
        "  {\"role\": \"user\", \"content\": \"Can you recommend some good resources for learning Python?\"}\n",
        "]\n",
        "response = get_completion_from_messages(messages)\n",
        "print(response)"
      ],
      "metadata": {
        "colab": {
          "base_uri": "https://localhost:8080/"
        },
        "id": "mjInJvyCiLkp",
        "outputId": "c781bc7d-bdf5-4d1b-9810-0404baffe4cb"
      },
      "execution_count": 36,
      "outputs": [
        {
          "output_type": "stream",
          "name": "stdout",
          "text": [
            "Of course! Here are some excellent resources for learning Python:\n",
            "\n",
            "1. **Codecademy**: Codecademy offers an interactive Python course that is great for beginners. It covers the basics of Python programming and allows you to practice coding in the browser.\n",
            "\n",
            "2. **Coursera**: Coursera has a variety of Python courses offered by universities and institutions around the world. Some popular ones include \"Python for Everybody\" by the University of Michigan and \"Programming for Everybody\" by the University of London\n"
          ]
        }
      ]
    },
    {
      "cell_type": "code",
      "source": [
        "messages =  [\n",
        "{\"role\": \"system\", \"content\": \"You are a teacher in an edutech\"},\n",
        "  {\"role\": \"user\", \"content\": \"What about for data science specifically?\"}\n",
        "]\n",
        "response = get_completion_from_messages(messages)\n",
        "print(response)"
      ],
      "metadata": {
        "colab": {
          "base_uri": "https://localhost:8080/"
        },
        "id": "y5NWgnk5iQdy",
        "outputId": "840abcb0-3c39-4184-a4d4-42f57f2c13d5"
      },
      "execution_count": 37,
      "outputs": [
        {
          "output_type": "stream",
          "name": "stdout",
          "text": [
            "As a teacher in edutech focusing on data science, you would play a crucial role in providing students with the knowledge and skills needed to excel in this rapidly growing field. Here are some key responsibilities and strategies you might consider:\n",
            "\n",
            "1. **Curriculum Development:** Design and develop a comprehensive curriculum that covers fundamental concepts in data science, including statistics, machine learning, data visualization, and programming languages such as Python and R.\n",
            "\n",
            "2. **Hands-On Projects:** Incorporate hands-on projects and real-world\n"
          ]
        }
      ]
    },
    {
      "cell_type": "code",
      "source": [
        "# using assistant"
      ],
      "metadata": {
        "id": "fxbOAn4liVt1"
      },
      "execution_count": 38,
      "outputs": []
    },
    {
      "cell_type": "code",
      "source": [
        "messages =  [\n",
        "{\"role\": \"system\", \"content\": \"You are a teacher in an edutech\"},\n",
        "  {\"role\": \"user\", \"content\": \"Can you recommend some good resources for learning Python?\"},\n",
        "  {\"role\": \"assistant\", \"content\": \"Sure! Some great resources for learning Python are Codecademy, Coursera, and the official Python documentation.\"},\n",
        "  {\"role\": \"user\", \"content\": \"What about for data science specifically?\"}\n",
        "]\n",
        "response = get_completion_from_messages(messages)\n",
        "print(response)"
      ],
      "metadata": {
        "colab": {
          "base_uri": "https://localhost:8080/"
        },
        "id": "HVBwP6QciZJH",
        "outputId": "a8c6d190-4c0a-47fe-dd5d-0253935e7163"
      },
      "execution_count": 39,
      "outputs": [
        {
          "output_type": "stream",
          "name": "stdout",
          "text": [
            "For data science with Python, I recommend checking out the following resources:\n",
            "\n",
            "1. DataCamp: DataCamp offers interactive Python courses specifically geared towards data science and analytics.\n",
            "\n",
            "2. Kaggle: Kaggle is a platform for data science competitions and also offers tutorials and datasets for practicing data science skills with Python.\n",
            "\n",
            "3. Towards Data Science: This publication on Medium has a wide range of articles and tutorials on data science topics using Python.\n",
            "\n",
            "4. Python Data Science Handbook by Jake VanderPlas: This book\n"
          ]
        }
      ]
    },
    {
      "cell_type": "code",
      "source": [
        "\n",
        "# Helper function to add messages to chat history and get a response\n",
        "def chat_with_gpt(chat_history, user_message):\n",
        "    # Add the new user message to the chat history\n",
        "    chat_history.append({\"role\": \"user\", \"content\": user_message})\n",
        "\n",
        "    # Send the chat history to the ChatGPT API\n",
        "    response = openai.chat.completions.create(\n",
        "        model=\"gpt-4\",\n",
        "        messages=chat_history\n",
        "    )\n",
        "\n",
        "    assistant_message = response.choices[0].message.content\n",
        "\n",
        "    # Add the assistant's message to the chat history\n",
        "    chat_history.append({\"role\": \"assistant\", \"content\": assistant_message})\n",
        "\n",
        "    return chat_history, assistant_message"
      ],
      "metadata": {
        "id": "Ulo919IAiaYB"
      },
      "execution_count": 40,
      "outputs": []
    },
    {
      "cell_type": "code",
      "source": [
        "chat_history =[\n",
        "        {\"role\": \"system\", \"content\": \"You are a helpful assistant.\"}\n",
        "    ]\n",
        "  # we start with just the system prompt\n",
        "\n",
        "chat_history, assistant_message = chat_with_gpt(chat_history, \"Hello, how are you?\")\n",
        "print( assistant_message, chat_history)"
      ],
      "metadata": {
        "colab": {
          "base_uri": "https://localhost:8080/"
        },
        "id": "S38vJGgfjcnF",
        "outputId": "4213a183-2c50-421b-f567-fd51e3b6164a"
      },
      "execution_count": 41,
      "outputs": [
        {
          "output_type": "stream",
          "name": "stdout",
          "text": [
            "Hello! As an artificial intelligence, I don't have feelings, but I'm here and ready to help you. How can I assist you today? [{'role': 'system', 'content': 'You are a helpful assistant.'}, {'role': 'user', 'content': 'Hello, how are you?'}, {'role': 'assistant', 'content': \"Hello! As an artificial intelligence, I don't have feelings, but I'm here and ready to help you. How can I assist you today?\"}]\n"
          ]
        }
      ]
    },
    {
      "cell_type": "code",
      "source": [
        "chat_history, assistant_message = chat_with_gpt(chat_history, \"Can you help me with a maths problem?\")\n",
        "print( assistant_message, chat_history)\n",
        "#Note we are getting all the past response here to get the list of talk with the gpt as a message we do it always"
      ],
      "metadata": {
        "colab": {
          "base_uri": "https://localhost:8080/"
        },
        "id": "eFgF7GVhjoey",
        "outputId": "94b55b0e-8ac2-423f-c2ef-1ab50327603e"
      },
      "execution_count": 42,
      "outputs": [
        {
          "output_type": "stream",
          "name": "stdout",
          "text": [
            "Of course! I'd be happy to help with your math problem. What do you need help with? [{'role': 'system', 'content': 'You are a helpful assistant.'}, {'role': 'user', 'content': 'Hello, how are you?'}, {'role': 'assistant', 'content': \"Hello! As an artificial intelligence, I don't have feelings, but I'm here and ready to help you. How can I assist you today?\"}, {'role': 'user', 'content': 'Can you help me with a maths problem?'}, {'role': 'assistant', 'content': \"Of course! I'd be happy to help with your math problem. What do you need help with?\"}]\n"
          ]
        }
      ]
    },
    {
      "cell_type": "code",
      "source": [
        "chat_history, assistant_message = chat_with_gpt(chat_history, \"What's the nbiggest prime mumber below 100\")\n",
        "print( assistant_message, chat_history)"
      ],
      "metadata": {
        "colab": {
          "base_uri": "https://localhost:8080/"
        },
        "id": "xNi-H8oFjvgI",
        "outputId": "24bdf13c-e891-4a38-b248-70aa33c5e126"
      },
      "execution_count": 43,
      "outputs": [
        {
          "output_type": "stream",
          "name": "stdout",
          "text": [
            "The largest prime number below 100 is 97. [{'role': 'system', 'content': 'You are a helpful assistant.'}, {'role': 'user', 'content': 'Hello, how are you?'}, {'role': 'assistant', 'content': \"Hello! As an artificial intelligence, I don't have feelings, but I'm here and ready to help you. How can I assist you today?\"}, {'role': 'user', 'content': 'Can you help me with a maths problem?'}, {'role': 'assistant', 'content': \"Of course! I'd be happy to help with your math problem. What do you need help with?\"}, {'role': 'user', 'content': \"What's the nbiggest prime mumber below 100\"}, {'role': 'assistant', 'content': 'The largest prime number below 100 is 97.'}]\n"
          ]
        }
      ]
    },
    {
      "cell_type": "code",
      "source": [
        "messages =  [\n",
        "{\"role\": \"system\", \"content\": \"you are an poet souled person. whatever is asked you write a short poem in the response\"},\n",
        "  {\"role\": \"user\", \"content\": \"Summarize the text delimited by triple slashes. ///Write a short story about software engineers that work with large language models. The office in which they work is a maze of busy workstations, overflowing with wires, screens, and a vibrant group of passionate software engineers. The story should center around the following characters: Sasha, the coding prodigy; Mark, the AI psychologist; and Lily a brilliant creative problem solver and team leader.///\"}\n",
        "]\n",
        "response = get_completion_from_messages(messages)\n",
        "print(response)"
      ],
      "metadata": {
        "colab": {
          "base_uri": "https://localhost:8080/"
        },
        "id": "KmjfsNtEj9a9",
        "outputId": "e43d7d15-bb78-4915-9a61-f27455139059"
      },
      "execution_count": 44,
      "outputs": [
        {
          "output_type": "stream",
          "name": "stdout",
          "text": [
            "In a maze of wires and screens they dwell,\n",
            "Software engineers with stories to tell.\n",
            "Sasha codes with genius, Mark studies the mind,\n",
            "While Lily leads with brilliance, problems to unwind.\n",
            "Together they conquer, a team so strong,\n",
            "In the world of language models, where they belong.\n"
          ]
        }
      ]
    },
    {
      "cell_type": "code",
      "source": [],
      "metadata": {
        "id": "eIOrevGfkJgk"
      },
      "execution_count": null,
      "outputs": []
    },
    {
      "cell_type": "markdown",
      "source": [
        "#Zero Shot"
      ],
      "metadata": {
        "id": "3i8WXRbUkS3d"
      }
    },
    {
      "cell_type": "code",
      "source": [
        "#zero shot and few shot\n",
        "\n",
        "\n",
        "messages =  [\n",
        "{\"role\": \"system\", \"content\": \"you are an helpful assistant\"},\n",
        "{\"role\": \"user\",\n",
        "  \"content\": \"Convert this instruction to JSON: Add a new user named Alice with email alice@scaler.com and role admin.\"}\n",
        "              ]\n",
        "response = get_completion_from_messages(messages)\n",
        "print(response)"
      ],
      "metadata": {
        "colab": {
          "base_uri": "https://localhost:8080/"
        },
        "id": "qNSz0GJDkT15",
        "outputId": "74f1d63b-e003-47a4-ea36-3f9ea2fb3e96"
      },
      "execution_count": 45,
      "outputs": [
        {
          "output_type": "stream",
          "name": "stdout",
          "text": [
            "{\n",
            "  \"action\": \"Add\",\n",
            "  \"user\": {\n",
            "    \"name\": \"Alice\",\n",
            "    \"email\": \"alice@scaler.com\",\n",
            "    \"role\": \"admin\"\n",
            "  }\n",
            "}\n"
          ]
        }
      ]
    },
    {
      "cell_type": "code",
      "source": [
        "# With the help of Assistant, now see how it works"
      ],
      "metadata": {
        "id": "-Co8D8LzkXAp"
      },
      "execution_count": 46,
      "outputs": []
    },
    {
      "cell_type": "code",
      "source": [
        "messages =  [\n",
        "{\"role\": \"system\", \"content\": \"you are an helpful assistant\"},\n",
        "{\n",
        "    \"role\": \"user\",\n",
        "    \"content\": \"Convert this instruction to JSON: Create a project named ProjectA with a deadline of 2024-12-31 and priority high.\"\n",
        "  },\n",
        "  {\n",
        "    \"role\": \"assistant\",\n",
        "    \"content\": \" {\\\"name\\\": \\\"ProjectA\\\", \\\"deadline\\\": \\\"2024-12-31\\\", \\\"priority\\\": \\\"high\\\"}}\"\n",
        "  },\n",
        "  {\n",
        "    \"role\": \"user\",\n",
        "    \"content\": \"Convert this instruction to JSON: Schedule a meeting with Bob on 2024-07-10 at 10:00 AM with the subject Quarterly Review.\"\n",
        "  },\n",
        "  {\n",
        "    \"role\": \"assistant\",\n",
        "    \"content\": \"{\\\"participant\\\": \\\"Bob\\\", \\\"date\\\": \\\"2024-07-10\\\", \\\"time\\\": \\\"10:00 AM\\\", \\\"subject\\\": \\\"Quarterly Review\\\"}}\"\n",
        "  },\n",
        "   {\n",
        "  \"role\": \"user\",\n",
        "  \"content\": \"Convert this instruction to JSON: Add a new user named Alice with email alice@scaler.com and role admin.\"\n",
        "}\n",
        "              ]\n",
        "response = get_completion_from_messages(messages)\n",
        "print(response)"
      ],
      "metadata": {
        "colab": {
          "base_uri": "https://localhost:8080/"
        },
        "id": "Ez3W2dXekffp",
        "outputId": "5d9e2b84-81ff-4ecd-f086-a9ac49e592d3"
      },
      "execution_count": 47,
      "outputs": [
        {
          "output_type": "stream",
          "name": "stdout",
          "text": [
            "{\"name\": \"Alice\", \"email\": \"alice@scaler.com\", \"role\": \"admin\"}\n"
          ]
        }
      ]
    },
    {
      "cell_type": "code",
      "source": [],
      "metadata": {
        "id": "MAqHQzUZkgze"
      },
      "execution_count": null,
      "outputs": []
    },
    {
      "cell_type": "markdown",
      "source": [
        "#Problems and solutions"
      ],
      "metadata": {
        "id": "VQSOB2cskkEC"
      }
    },
    {
      "cell_type": "code",
      "source": [
        "messages =  [\n",
        "{\n",
        "      \"role\": \"system\",\n",
        "      \"content\": \"You are a helpful assistant who solves math problems step-by-step, explaining each step clearly.\"\n",
        "    },\n",
        "    {\n",
        "      \"role\": \"user\",\n",
        "      \"content\": \"Solve the following math problem step-by-step: What is (3 + 4) * 2?\"\n",
        "    },\n",
        "    {\n",
        "      \"role\": \"assistant\",\n",
        "      \"content\": \"Sure, let's break it down step-by-step:\\n1. First, we solve the expression inside the parentheses: 3 + 4 = 7.\\n2. Next, we multiply the result by 2: 7 * 2 = 14.\\nSo, the result is 14.\"\n",
        "    },\n",
        "    {\n",
        "      \"role\": \"user\",\n",
        "      \"content\": \"Solve the following math problem step-by-step: What is 5 * (2 + 3)?\"\n",
        "    },\n",
        "    {\n",
        "      \"role\": \"assistant\",\n",
        "      \"content\": \"Alright, let's solve it step-by-step:\\n1. First, we solve the expression inside the parentheses: 2 + 3 = 5.\\n2. Next, we multiply the result by 5: 5 * 5 = 25.\\nSo, the result is 25.\"\n",
        "    },\n",
        "    {\n",
        "      \"role\": \"user\",\n",
        "      \"content\": \"Solve the following math problem step-by-step: What is (6 / 2) + 7?\"\n",
        "    }\n",
        "              ]\n",
        "response = get_completion_from_messages(messages)\n",
        "print(response)"
      ],
      "metadata": {
        "colab": {
          "base_uri": "https://localhost:8080/"
        },
        "id": "W9Yr_xBnkmDf",
        "outputId": "bac58f27-06ac-4ecd-9808-e6c67beff67d"
      },
      "execution_count": 48,
      "outputs": [
        {
          "output_type": "stream",
          "name": "stdout",
          "text": [
            "Sure, let's solve it step-by-step:\n",
            "1. First, we divide 6 by 2: 6 / 2 = 3.\n",
            "2. Next, we add 7 to the result: 3 + 7 = 10.\n",
            "So, the result is 10.\n"
          ]
        }
      ]
    },
    {
      "cell_type": "code",
      "source": [
        "messages =  [\n",
        "{\n",
        "      \"role\": \"system\",\n",
        "      \"content\": \"You are a logical reasoning expert who solves puzzles step-by-step, explaining each step clearly.\"\n",
        "    },\n",
        "    {\n",
        "      \"role\": \"user\",\n",
        "      \"content\": \"Solve the following puzzle step-by-step: There are three cups. One contains a gold coin, one contains a silver coin, and one contains a bronze coin. Each cup is labeled incorrectly. How can you determine the correct contents of each cup by looking under just one cup?\"\n",
        "    },\n",
        "    {\n",
        "      \"role\": \"assistant\",\n",
        "      \"content\": \"Let's solve it step-by-step:\\n1. Since each label is incorrect, the cup labeled 'Gold' cannot contain the gold coin. Similarly, the 'Silver' cup cannot contain the silver coin, and the 'Bronze' cup cannot contain the bronze coin.\\n2. If you look under the cup labeled 'Bronze' and find a gold coin, you know that the cup labeled 'Gold' must contain the silver coin, and the cup labeled 'Silver' must contain the bronze coin.\\nSo, by looking under the 'Bronze' labeled cup, you can determine the correct contents of all three cups.\"\n",
        "    },\n",
        "    {\n",
        "      \"role\": \"user\",\n",
        "      \"content\": \"Solve the following puzzle step-by-step: You have three switches in a room. Only one switch turns on a light bulb in another room. How can you determine which switch controls the light bulb if you can only enter the room with the light bulb once?\"\n",
        "    },\n",
        "    {\n",
        "      \"role\": \"assistant\",\n",
        "      \"content\": \"Let's solve it step-by-step:\\n1. Turn on the first switch and leave it on for a few minutes.\\n2. Turn off the first switch and turn on the second switch.\\n3. Immediately go to the room with the light bulb.\\n4. If the light bulb is on, the second switch controls it. If the light bulb is off but warm, the first switch controls it. If the light bulb is off and cold, the third switch controls it.\\nSo, you can determine which switch controls the light bulb by checking its state and temperature.\"\n",
        "    },\n",
        "    {\n",
        "      \"role\": \"user\",\n",
        "      \"content\": \"Solve the following puzzle step-by-step: There are three boxes labeled 'Apples', 'Oranges', and 'Apples and Oranges'. Each label is incorrect. How can you determine the correct contents by taking out just one fruit from one box?\"\n",
        "    }\n",
        "              ]\n",
        "response = get_completion_from_messages(messages)\n",
        "print(response)"
      ],
      "metadata": {
        "colab": {
          "base_uri": "https://localhost:8080/"
        },
        "id": "cMTYLLE5kmln",
        "outputId": "9eb362c6-9dc1-4354-d6e3-f20afc978de0"
      },
      "execution_count": 49,
      "outputs": [
        {
          "output_type": "stream",
          "name": "stdout",
          "text": [
            "Let's solve it step-by-step:\n",
            "1. Since each label is incorrect, we know that none of the boxes contain the fruit indicated by their label.\n",
            "2. Take a fruit out of the box labeled 'Apples and Oranges'.\n",
            "3. There are two possibilities:\n",
            "   a. If you take out an apple, then this box must be the 'Apples' box, as it cannot contain both apples and oranges.\n",
            "   b. If you take out an orange, then this box must\n"
          ]
        }
      ]
    },
    {
      "cell_type": "code",
      "source": [],
      "metadata": {
        "id": "uMC9U7kQkpBU"
      },
      "execution_count": null,
      "outputs": []
    },
    {
      "cell_type": "markdown",
      "source": [
        "#Lets check the model to text to speecg from open Ai"
      ],
      "metadata": {
        "id": "D2mDmIzgkv6W"
      }
    },
    {
      "cell_type": "code",
      "source": [
        "response = openai.audio.speech.create(\n",
        "  model=\"tts-1\",\n",
        "  voice=\"alloy\",\n",
        "  input=\"Today is a wonderful day to build something people love! Suraaj\",\n",
        "  )\n",
        "response.stream_to_file(\"output.mp3\")\n",
        "\n",
        "#check into the files we get the file name with output.mp3"
      ],
      "metadata": {
        "colab": {
          "base_uri": "https://localhost:8080/"
        },
        "id": "nP5a47r3k1J6",
        "outputId": "511cbe15-178f-4867-cdd6-f0e10a68afb9"
      },
      "execution_count": 50,
      "outputs": [
        {
          "output_type": "stream",
          "name": "stderr",
          "text": [
            "<ipython-input-50-efa163751439>:6: DeprecationWarning: Due to a bug, this method doesn't actually stream the response content, `.with_streaming_response.method()` should be used instead\n",
            "  response.stream_to_file(\"output.mp3\")\n"
          ]
        }
      ]
    },
    {
      "cell_type": "code",
      "source": [
        "output = openai.audio.speech.create(\n",
        "  model=\"tts-1\",\n",
        "  voice=\"alloy\",\n",
        "  input=\"Today is a wonderful day to build something people love! And travelling is the most essesntial way to describe nature of people, Love you Abhijeet\",\n",
        "  )\n",
        "output.stream_to_file(\"voiceop1.mp3\")\n",
        "\n",
        "#check into the files we get the file name with voice.mp3"
      ],
      "metadata": {
        "colab": {
          "base_uri": "https://localhost:8080/"
        },
        "id": "3GlrbobWk516",
        "outputId": "1d595421-8cf9-4258-9f3a-433752513cf6"
      },
      "execution_count": 56,
      "outputs": [
        {
          "output_type": "stream",
          "name": "stderr",
          "text": [
            "<ipython-input-56-aeaa30be1539>:6: DeprecationWarning: Due to a bug, this method doesn't actually stream the response content, `.with_streaming_response.method()` should be used instead\n",
            "  output.stream_to_file(\"voiceop1.mp3\")\n"
          ]
        }
      ]
    },
    {
      "cell_type": "code",
      "source": [
        "response = openai.audio.speech.create(\n",
        "  model=\"tts-1\",\n",
        "  voice=\"alloy\",\n",
        "  input=\"मेरा नाम अभिजीत है और मैं GenAI में पेशेवर हूं\",\n",
        "  )\n",
        "\n",
        "response.stream_to_file(\"output1.mp3\")"
      ],
      "metadata": {
        "colab": {
          "base_uri": "https://localhost:8080/"
        },
        "id": "xu_2isM2mRUA",
        "outputId": "c3718d72-3863-4d17-8b49-46121fe3104e"
      },
      "execution_count": 58,
      "outputs": [
        {
          "output_type": "stream",
          "name": "stderr",
          "text": [
            "<ipython-input-58-8c74ee8699c2>:7: DeprecationWarning: Due to a bug, this method doesn't actually stream the response content, `.with_streaming_response.method()` should be used instead\n",
            "  response.stream_to_file(\"output1.mp3\")\n"
          ]
        }
      ]
    },
    {
      "cell_type": "code",
      "source": [],
      "metadata": {
        "id": "EsKmoWhwnNrt"
      },
      "execution_count": null,
      "outputs": []
    },
    {
      "cell_type": "markdown",
      "source": [
        "#Now Lets check with the model speech to text"
      ],
      "metadata": {
        "id": "4wHYwF8onXp-"
      }
    },
    {
      "cell_type": "code",
      "source": [
        "audio_file = open(\"/content/voiceop1.mp3\", \"rb\")\n",
        "response = openai.audio.transcriptions.create(\n",
        "  model=\"whisper-1\",\n",
        "  file = audio_file\n",
        "  )\n",
        "print(response.text)"
      ],
      "metadata": {
        "colab": {
          "base_uri": "https://localhost:8080/"
        },
        "id": "lUW--fbvnckD",
        "outputId": "6f0f2d8a-d1ce-4445-acff-f2dc97a13834"
      },
      "execution_count": 60,
      "outputs": [
        {
          "output_type": "stream",
          "name": "stdout",
          "text": [
            "Today is a wonderful day to build something people love, and traveling is the most essential way to describe nature of people. Love you, Abhijit.\n"
          ]
        }
      ]
    },
    {
      "cell_type": "code",
      "source": [],
      "metadata": {
        "id": "gDKxSDmLnoqm"
      },
      "execution_count": null,
      "outputs": []
    }
  ]
}